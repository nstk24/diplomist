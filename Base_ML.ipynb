{
 "cells": [
  {
   "cell_type": "code",
   "execution_count": 1,
   "id": "24105355",
   "metadata": {},
   "outputs": [
    {
     "name": "stdout",
     "output_type": "stream",
     "text": [
      "X_clean: (94, 2000)\n",
      "y_clean: (94,)    classes: (array([0, 1]), array([49, 45]))\n",
      "LogReg: AUC 0.987 ± 0.011 | ACC 0.936 ± 0.021 | F1 0.933 ± 0.016\n",
      "SVM-linear: AUC 0.998 ± 0.004 | ACC 0.926 ± 0.042 | F1 0.924 ± 0.034\n",
      "SVM-rbf: AUC 0.969 ± 0.026 | ACC 0.915 ± 0.042 | F1 0.908 ± 0.047\n",
      "RandomForest: AUC 0.950 ± 0.021 | ACC 0.926 ± 0.042 | F1 0.919 ± 0.048\n"
     ]
    }
   ],
   "source": [
    "import pandas as pd\n",
    "import numpy as np\n",
    "\n",
    "# Загружаем сохранённые датасеты\n",
    "X_clean = pd.read_csv(\"X_clean.csv\").values\n",
    "y_clean = pd.read_csv(\"y_clean.csv\")[\"label\"].values  # или \"class\", если колонка так называлась\n",
    "\n",
    "print(\"X_clean:\", X_clean.shape)\n",
    "print(\"y_clean:\", y_clean.shape, \"   classes:\", np.unique(y_clean, return_counts=True))\n",
    "from sklearn.model_selection import cross_validate, StratifiedKFold\n",
    "from sklearn.pipeline import make_pipeline\n",
    "from sklearn.preprocessing import StandardScaler\n",
    "from sklearn.svm import SVC\n",
    "from sklearn.ensemble import RandomForestClassifier\n",
    "from sklearn.linear_model import LogisticRegression\n",
    "import numpy as np\n",
    "\n",
    "# 5-fold стратифицированная CV и набор метрик\n",
    "cv = StratifiedKFold(n_splits=5, shuffle=True, random_state=42)\n",
    "scoring = {\"auc\": \"roc_auc\", \"acc\": \"accuracy\", \"f1\": \"f1\"}\n",
    "\n",
    "# Модели: логрег (baseline), SVM (linear/rbf) и Random Forest\n",
    "models = {\n",
    "    \"LogReg\": make_pipeline(StandardScaler(), LogisticRegression(max_iter=5000)),\n",
    "    \"SVM-linear\": make_pipeline(StandardScaler(), SVC(kernel=\"linear\", probability=True)),\n",
    "    \"SVM-rbf\": make_pipeline(StandardScaler(), SVC(kernel=\"rbf\", C=1.0, gamma=\"scale\", probability=True)),\n",
    "    \"RandomForest\": RandomForestClassifier(n_estimators=300, random_state=42, n_jobs=-1)\n",
    "}\n",
    "\n",
    "# Оцениваем и печатаем средние метрики ± std\n",
    "for name, clf in models.items():\n",
    "    res = cross_validate(clf, X_clean, y_clean, cv=cv, scoring=scoring, n_jobs=-1)\n",
    "    print(\n",
    "        f\"{name}: \"\n",
    "        f\"AUC {res['test_auc'].mean():.3f} ± {res['test_auc'].std():.3f} | \"\n",
    "        f\"ACC {res['test_acc'].mean():.3f} ± {res['test_acc'].std():.3f} | \"\n",
    "        f\"F1 {res['test_f1'].mean():.3f} ± {res['test_f1'].std():.3f}\"\n",
    "    )\n"
   ]
  },
  {
   "cell_type": "markdown",
   "id": "4f76ce7e",
   "metadata": {},
   "source": [
    "как мы можем видеть, наибольший ROC AUC имеет  SVM-linear"
   ]
  }
 ],
 "metadata": {
  "kernelspec": {
   "display_name": "Python 3",
   "language": "python",
   "name": "python3"
  },
  "language_info": {
   "codemirror_mode": {
    "name": "ipython",
    "version": 3
   },
   "file_extension": ".py",
   "mimetype": "text/x-python",
   "name": "python",
   "nbconvert_exporter": "python",
   "pygments_lexer": "ipython3",
   "version": "3.13.7"
  }
 },
 "nbformat": 4,
 "nbformat_minor": 5
}
