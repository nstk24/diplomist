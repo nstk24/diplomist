{
 "cells": [
  {
   "cell_type": "markdown",
   "id": "f38ebf61",
   "metadata": {},
   "source": [
    "# EDA Raman Spectra\n",
    "\n",
    "Этот ноутбук выполняет базовый анализ спектров:\n",
    "- загрузка данных (здоровые / больные),\n",
    "- сводка по размерам,\n",
    "- средние спектры,\n",
    "- PCA визуализация.\n"
   ]
  },
  {
   "cell_type": "code",
   "execution_count": null,
   "id": "156e9382",
   "metadata": {},
   "outputs": [],
   "source": [
    "# параметры\n",
    "file_path = \"Raman_krov_SSZ-zdorovye.xlsx\"  # путь к файлу"
   ]
  },
  {
   "cell_type": "code",
   "execution_count": null,
   "id": "61b6c083",
   "metadata": {},
   "outputs": [],
   "source": [
    "import pandas as pd\n",
    "import numpy as np\n",
    "\n",
    "df_health = pd.read_excel(file_path, sheet_name=\"health\")\n",
    "df_disease = pd.read_excel(file_path, sheet_name=\"heart disease\")\n",
    "\n",
    "wavenumber = df_health[\"wavenumber\"].values\n",
    "X_health = df_health.drop(columns=[\"wavenumber\"]).T.values\n",
    "X_disease = df_disease.drop(columns=[\"wavenumber\"]).T.values\n",
    "\n",
    "print(\"Healthy shape:\", X_health.shape)\n",
    "print(\"Disease shape:\", X_disease.shape)\n",
    "print(\"Wavenumber points:\", len(wavenumber))"
   ]
  },
  {
   "cell_type": "code",
   "execution_count": null,
   "id": "3391acb3",
   "metadata": {},
   "outputs": [],
   "source": [
    "import matplotlib.pyplot as plt\n",
    "\n",
    "plt.figure()\n",
    "plt.plot(wavenumber, X_health.mean(axis=0), label=\"Healthy mean\")\n",
    "plt.plot(wavenumber, X_disease.mean(axis=0), label=\"Disease mean\")\n",
    "plt.legend(); plt.xlabel(\"Wavenumber\"); plt.ylabel(\"Intensity\")\n",
    "plt.title(\"Mean spectra by class\")\n",
    "plt.show()\n",
    "\n",
    "plt.figure()\n",
    "plt.plot(wavenumber, X_health.std(axis=0), label=\"Healthy std\")\n",
    "plt.plot(wavenumber, X_disease.std(axis=0), label=\"Disease std\")\n",
    "plt.legend(); plt.xlabel(\"Wavenumber\"); plt.ylabel(\"Std\")\n",
    "plt.title(\"Spectral variability by class\")\n",
    "plt.show()"
   ]
  },
  {
   "cell_type": "code",
   "execution_count": null,
   "id": "ca6c54f5",
   "metadata": {},
   "outputs": [],
   "source": [
    "from sklearn.decomposition import PCA\n",
    "from sklearn.preprocessing import StandardScaler\n",
    "\n",
    "X = np.vstack([X_health, X_disease])\n",
    "y = np.array([0]*X_health.shape[0] + [1]*X_disease.shape[0])\n",
    "\n",
    "Xn = StandardScaler().fit_transform(X)\n",
    "Z = PCA(n_components=2, random_state=42).fit_transform(Xn)\n",
    "\n",
    "plt.figure()\n",
    "plt.scatter(Z[y==0,0], Z[y==0,1], label=\"Healthy\", alpha=0.7)\n",
    "plt.scatter(Z[y==1,0], Z[y==1,1], label=\"Disease\", alpha=0.7)\n",
    "plt.xlabel(\"PC1\"); plt.ylabel(\"PC2\"); plt.legend()\n",
    "plt.title(\"PCA scatter (StandardScaler)\")\n",
    "plt.show()"
   ]
  }
 ],
 "metadata": {},
 "nbformat": 4,
 "nbformat_minor": 5
}
